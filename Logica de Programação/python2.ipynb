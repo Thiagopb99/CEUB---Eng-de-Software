{
  "nbformat": 4,
  "nbformat_minor": 0,
  "metadata": {
    "colab": {
      "provenance": []
    },
    "kernelspec": {
      "name": "python3",
      "display_name": "Python 3"
    },
    "language_info": {
      "name": "python"
    }
  },
  "cells": [
    {
      "cell_type": "code",
      "execution_count": null,
      "metadata": {
        "id": "dCXhfiY6_dhg"
      },
      "outputs": [],
      "source": []
    },
    {
      "cell_type": "markdown",
      "source": [
        "## Para essa lista, não utilize nenhuma biblioteca ou funções não mostradas em sala"
      ],
      "metadata": {
        "id": "Z3kHxPgBOewf"
      }
    },
    {
      "cell_type": "code",
      "source": [],
      "metadata": {
        "id": "Rnz5Jr6Z_ekQ"
      },
      "execution_count": null,
      "outputs": []
    },
    {
      "cell_type": "markdown",
      "source": [
        "1. Faça um programa que peça números inteiros ao usuário e calcula a média dos valores digitados. O programa deverá parar quando o usuário digitar um número negativo (que não deverá ser incluído no cálculo)."
      ],
      "metadata": {
        "id": "jZB7Gg2ME8H3"
      }
    },
    {
      "cell_type": "code",
      "source": [
        "\n",
        "def calcular_media():\n",
        "  soma = 0\n",
        "  contador = 0\n",
        "  while True:\n",
        "    try:\n",
        "      numero = int(input(\"Digite um número inteiro (negativo para parar): \"))\n",
        "      if numero < 0:\n",
        "        break\n",
        "      soma += numero\n",
        "      contador += 1\n",
        "    except ValueError:\n",
        "      print(\"Entrada inválida. Digite um número inteiro.\")\n",
        "\n",
        "  if contador == 0:\n",
        "    print(\"Nenhum número positivo foi digitado.\")\n",
        "  else:\n",
        "    media = soma / contador\n",
        "    print(f\"A média dos números digitados é: {media}\")\n",
        "\n",
        "calcular_media()\n"
      ],
      "metadata": {
        "id": "RVOCoknL_ehW",
        "colab": {
          "base_uri": "https://localhost:8080/"
        },
        "outputId": "e79d0d40-dfb2-440b-96ed-1c15251cc0cb"
      },
      "execution_count": 29,
      "outputs": [
        {
          "output_type": "stream",
          "name": "stdout",
          "text": [
            "Digite um número inteiro (negativo para parar): 2222\n",
            "Digite um número inteiro (negativo para parar): 3\n",
            "Digite um número inteiro (negativo para parar): 4\n",
            "Digite um número inteiro (negativo para parar): -2\n",
            "A média dos números digitados é: 743.0\n"
          ]
        }
      ]
    },
    {
      "cell_type": "markdown",
      "source": [
        "2. Faça um programa que peça números inteiros ao usuário e conta quantos números positivos e quantos números negativos foram digitados. O programa deverá parar quando o número zero for digitado, mostrando a tela os resultados."
      ],
      "metadata": {
        "id": "AF_NBZD4E--E"
      }
    },
    {
      "cell_type": "code",
      "source": [
        "positivo = 0\n",
        "negativo = 0\n",
        "while True:\n",
        "  try:\n",
        "    numero = int(input(\"Digite um número inteiro (0 para parar): \"))\n",
        "    if numero == 0:\n",
        "      break\n",
        "    if numero > 0:\n",
        "      positivo += 1\n",
        "    else:\n",
        "      negativo += 1\n",
        "\n",
        "  except ValueError:\n",
        "    print(\"Entrada inválida. Digite um número inteiro.\")\n",
        "\n",
        "print(f\"Quantidade de números positivos: {positivo}\")\n",
        "print(f\"Quantidade de números negativos: {negativo}\")\n",
        "\n",
        ""
      ],
      "metadata": {
        "id": "1l3CUBd-_eeg",
        "colab": {
          "base_uri": "https://localhost:8080/"
        },
        "outputId": "3ca4e1d2-573b-4048-cc5e-4f6968c923a7"
      },
      "execution_count": 30,
      "outputs": [
        {
          "output_type": "stream",
          "name": "stdout",
          "text": [
            "Digite um número inteiro (0 para parar): 2\n",
            "Digite um número inteiro (0 para parar): 3\n",
            "Digite um número inteiro (0 para parar): \n",
            "Entrada inválida. Digite um número inteiro.\n",
            "Digite um número inteiro (0 para parar): 4\n",
            "Digite um número inteiro (0 para parar): 5\n",
            "Digite um número inteiro (0 para parar): -4\n",
            "Digite um número inteiro (0 para parar): -5\n",
            "Digite um número inteiro (0 para parar): -6\n",
            "Digite um número inteiro (0 para parar): 0\n",
            "Quantidade de números positivos: 4\n",
            "Quantidade de números negativos: 3\n"
          ]
        }
      ]
    },
    {
      "cell_type": "markdown",
      "source": [
        "\n",
        "3. Faça um programa que peça uma nota, entre zero e dez. Mostre uma mensagem caso o valor seja inválido e continue pedindo até que o usuário informe um valor válido."
      ],
      "metadata": {
        "id": "1b4ISCUnFDkJ"
      }
    },
    {
      "cell_type": "markdown",
      "source": [],
      "metadata": {
        "id": "1eFkrfQsOpK4"
      }
    },
    {
      "cell_type": "code",
      "source": [
        "nota = [0, 1, 2, 3, 4, 5, 6, 7, 8, 9, 10]\n",
        "notaz = float(input(\"Digite uma nota entre 0 e 10: \"))\n",
        "while True:\n",
        "  if notaz in nota:\n",
        "    print(\"Nota válida, nota:\", notaz)\n",
        "    break\n",
        "  else:\n",
        "    print(\"Nota inválida\")\n",
        "    notaz = float(input(\"Digite uma nota entre 0 e 10: \"))\n"
      ],
      "metadata": {
        "id": "Nop5MLGm_ebz",
        "colab": {
          "base_uri": "https://localhost:8080/"
        },
        "outputId": "b271a6c3-ba9d-4eda-96ac-2c9d55166450"
      },
      "execution_count": 33,
      "outputs": [
        {
          "output_type": "stream",
          "name": "stdout",
          "text": [
            "Digite uma nota entre 0 e 10: 2\n",
            "Nota válida, nota: 2.0\n"
          ]
        }
      ]
    },
    {
      "cell_type": "markdown",
      "source": [
        "\n",
        "4. Faça um programa que peça o valor total de um orçamento (valor igual ou maior do que R$100.00). Então, peça vários valores de serviço até chegar no valor total e mostre na tela o valor de cada serviço que será executado. Note que nem sempre será possível utilizar todo orçamento. Quando o valor do serviço estourar ou consumir todo orçamento, o programa deverá avisar que nenhum outro serviço poderá ser pedido."
      ],
      "metadata": {
        "id": "azFRtBFKFG89"
      }
    },
    {
      "cell_type": "code",
      "source": [
        "orcamento = float(input(\"Digite o valor total do orçamento (mínimo R$100.00): \"))\n",
        "\n",
        "if orcamento < 100:\n",
        "    print(\"Orçamento insuficiente.\")\n",
        "else:\n",
        "    servicos = []\n",
        "    total_utilizado = 0\n",
        "\n",
        "    while True:\n",
        "        valor_servico = float(input(\"Digite o valor do serviço (ou 0 para sair): \"))\n",
        "\n",
        "        if valor_servico == 0:\n",
        "            print(\"Encerrando entrada de serviços.\")\n",
        "            break\n",
        "\n",
        "        if total_utilizado + valor_servico > orcamento:\n",
        "            print(\"Orçamento excedido! Nenhum outro serviço poderá ser pedido.\")\n",
        "            break\n",
        "        else:\n",
        "            servicos.append(valor_servico)\n",
        "            total_utilizado += valor_servico\n",
        "            print(f\"Serviço de R${valor_servico:.2f} adicionado. Total utilizado: R${total_utilizado:.2f}\")\n",
        "\n",
        "    print(\"\\nServiços aprovados:\")\n",
        "    for i, s in enumerate(servicos, start=1):\n",
        "        print(f\"{i}. R${s:.2f}\")\n",
        "    print(f\"Total utilizado: R${total_utilizado:.2f}\")\n",
        "    print(f\"Orçamento restante: R${orcamento - total_utilizado:.2f}\")\n",
        "\n"
      ],
      "metadata": {
        "id": "QC49dJu5_eZF",
        "colab": {
          "base_uri": "https://localhost:8080/"
        },
        "outputId": "aa67a4b8-efe6-4ef7-c30b-83bc21e44869"
      },
      "execution_count": 35,
      "outputs": [
        {
          "output_type": "stream",
          "name": "stdout",
          "text": [
            "Digite o valor total do orçamento (mínimo R$100.00): 300\n",
            "Digite o valor do serviço (ou 0 para sair): 20\n",
            "Serviço de R$20.00 adicionado. Total utilizado: R$20.00\n",
            "Digite o valor do serviço (ou 0 para sair): 180\n",
            "Serviço de R$180.00 adicionado. Total utilizado: R$200.00\n",
            "Digite o valor do serviço (ou 0 para sair): 100\n",
            "Serviço de R$100.00 adicionado. Total utilizado: R$300.00\n",
            "Digite o valor do serviço (ou 0 para sair): 2\n",
            "Orçamento excedido! Nenhum outro serviço poderá ser pedido.\n",
            "\n",
            "Serviços aprovados:\n",
            "1. R$20.00\n",
            "2. R$180.00\n",
            "3. R$100.00\n",
            "Total utilizado: R$300.00\n",
            "Orçamento restante: R$0.00\n"
          ]
        }
      ]
    },
    {
      "cell_type": "markdown",
      "source": [
        "5. Faça um programa que leia e valide as seguintes informações:  \n",
        "    a. Nome: maior que 3 caracteres;  \n",
        "    b. Idade: entre 0 e 150;   \n",
        "    c. Salário: maior que zero;  \n",
        "    d. Sexo: 'f' ou 'm';  \n",
        "    e. Estado Civil: 's', 'c', 'v', 'd';   \n",
        "    \n",
        "    Caso alguma condição seja violada, peça para o usuário entrar novamente o valor.\n",
        "\n",
        "    Use a função len(string) para saber o tamanho de um texto (número de caracteres)."
      ],
      "metadata": {
        "id": "d1K0qgLuFLql"
      }
    },
    {
      "cell_type": "code",
      "source": [
        "while True:\n",
        "    nome = input(\"Digite seu nome (mais de 3 caracteres): \")\n",
        "    if len(nome) > 3:\n",
        "        break\n",
        "    print(\"Nome inválido! Deve conter mais de 3 caracteres.\")\n",
        "\n",
        "while True:\n",
        "    try:\n",
        "        idade = int(input(\"Digite sua idade (entre 0 e 150): \"))\n",
        "        if 0 <= idade <= 150:\n",
        "            break\n",
        "        else:\n",
        "            print(\"Idade inválida! Deve estar entre 0 e 150.\")\n",
        "    except ValueError:\n",
        "        print(\"Digite um número inteiro válido.\")\n",
        "\n",
        "while True:\n",
        "    try:\n",
        "        salario = float(input(\"Digite seu salário (maior que 0): \"))\n",
        "        if salario > 0:\n",
        "            break\n",
        "        else:\n",
        "            print(\"Salário inválido! Deve ser maior que 0.\")\n",
        "    except ValueError:\n",
        "        print(\"Digite um valor numérico válido.\")\n",
        "\n",
        "while True:\n",
        "    sexo = input(\"Digite seu sexo ('f' para feminino ou 'm' para masculino): \").lower()\n",
        "    if sexo in ['f', 'm']:\n",
        "        break\n",
        "    print(\"Sexo inválido! Digite 'f' ou 'm'.\")\n",
        "\n",
        "while True:\n",
        "    estado_civil = input(\"Digite seu estado civil ('s' - solteiro, 'c' - casado, 'v' - viúvo, 'd' - divorciado): \").lower()\n",
        "    if estado_civil in ['s', 'c', 'v', 'd']:\n",
        "        break\n",
        "    print(\"Estado civil inválido! Digite 's', 'c', 'v' ou 'd'.\")\n",
        "\n",
        "print(\"\\nDados cadastrados com sucesso:\")\n",
        "print(f\"Nome: {nome}\")\n",
        "print(f\"Idade: {idade}\")\n",
        "print(f\"Salário: R${salario:.2f}\")\n",
        "print(f\"Sexo: {'Feminino' if sexo == 'f' else 'Masculino'}\")\n",
        "print(f\"Estado civil: {estado_civil.upper()}\")\n"
      ],
      "metadata": {
        "id": "MhQFW1LgFLKm",
        "colab": {
          "base_uri": "https://localhost:8080/"
        },
        "outputId": "daa15b36-f33e-4a3f-e292-d855ae13509d"
      },
      "execution_count": 36,
      "outputs": [
        {
          "output_type": "stream",
          "name": "stdout",
          "text": [
            "Digite seu nome (mais de 3 caracteres): joao\n",
            "Digite sua idade (entre 0 e 150): 18\n",
            "Digite seu salário (maior que 0): 10000\n",
            "Digite seu sexo ('f' para feminino ou 'm' para masculino): m\n",
            "Digite seu estado civil ('s' - solteiro, 'c' - casado, 'v' - viúvo, 'd' - divorciado): s\n",
            "\n",
            "Dados cadastrados com sucesso:\n",
            "Nome: joao\n",
            "Idade: 18\n",
            "Salário: R$10000.00\n",
            "Sexo: Masculino\n",
            "Estado civil: S\n"
          ]
        }
      ]
    },
    {
      "cell_type": "markdown",
      "source": [
        "6. Faça um programa que peça dois números inteiros positivos, base e expoente, calcule e mostre o primeiro número elevado ao segundo número. Não utilize a função ou o operador de potência da linguagem. (faça esse programa utilizando o while)"
      ],
      "metadata": {
        "id": "yNVzswkjFTFE"
      }
    },
    {
      "cell_type": "code",
      "source": [
        "\n",
        "while True:\n",
        "    try:\n",
        "        base = int(input(\"Digite a base (inteiro positivo): \"))\n",
        "        if base > 0:\n",
        "            break\n",
        "        else:\n",
        "            print(\"A base deve ser um número inteiro positivo.\")\n",
        "    except ValueError:\n",
        "        print(\"Entrada inválida! Digite um número inteiro.\")\n",
        "\n",
        "while True:\n",
        "    try:\n",
        "        expoente = int(input(\"Digite o expoente (inteiro positivo): \"))\n",
        "        if expoente >= 0:\n",
        "            break\n",
        "        else:\n",
        "            print(\"O expoente deve ser um número inteiro positivo ou zero.\")\n",
        "    except ValueError:\n",
        "        print(\"Entrada inválida! Digite um número inteiro.\")\n",
        "\n",
        "resultado = 1\n",
        "contador = 0\n",
        "\n",
        "while contador < expoente:\n",
        "    resultado *= base\n",
        "    contador += 1\n",
        "\n",
        "print(f\"\\n{base} elevado a {expoente} é igual a {resultado}\")\n"
      ],
      "metadata": {
        "id": "XC7Odp_LFLIL",
        "colab": {
          "base_uri": "https://localhost:8080/"
        },
        "outputId": "233b1e87-459c-45dd-8d01-2d6c04ff15e8"
      },
      "execution_count": 37,
      "outputs": [
        {
          "output_type": "stream",
          "name": "stdout",
          "text": [
            "Digite a base (inteiro positivo): 10\n",
            "Digite o expoente (inteiro positivo): 2\n",
            "\n",
            "10 elevado a 2 é igual a 100\n"
          ]
        }
      ]
    },
    {
      "cell_type": "markdown",
      "source": [
        "7. Faça um programa que peça um número inteiro e mostre a tabuada desse número na tela. Faça utilizando o for. (Essa tarefa poderia ser feita utilizando o while? Por quê?)"
      ],
      "metadata": {
        "id": "DmHku2PQGWdP"
      }
    },
    {
      "cell_type": "code",
      "source": [
        "\n",
        "numero = int(input(\"Digite um número inteiro para ver a tabuada: \"))\n",
        "\n",
        "print(f\"\\nTabuada do {numero}:\")\n",
        "for i in range(1, 11):\n",
        "    print(f\"{numero} x {i} = {numero * i}\")\n"
      ],
      "metadata": {
        "id": "S8pNqfJCFLGP"
      },
      "execution_count": null,
      "outputs": []
    },
    {
      "cell_type": "markdown",
      "source": [
        "Sim, a estrutura \"while\" também permite repetir um bloco de código várias vezes, como o \"for\". A diferença é que com \"while\", você controla manualmente o contador."
      ],
      "metadata": {
        "id": "IDa_qvXBsHIj"
      }
    },
    {
      "cell_type": "markdown",
      "source": [
        "8. Faça um programa que peça um número inteiro positivo n e mostre os n primeiros números da sequência de Fibonacci.\n"
      ],
      "metadata": {
        "id": "5CmPnnXOGxrv"
      }
    },
    {
      "cell_type": "code",
      "source": [
        "\n",
        "while True:\n",
        "    try:\n",
        "        n = int(input(\"Digite um número inteiro positivo: \"))\n",
        "        if n > 0:\n",
        "            break\n",
        "        else:\n",
        "            print(\"O número deve ser maior que 0.\")\n",
        "    except ValueError:\n",
        "        print(\"Entrada inválida. Digite um número inteiro.\")\n",
        "\n",
        "fibonacci = []\n",
        "a, b = 0, 1\n",
        "for _ in range(n):\n",
        "    fibonacci.append(a)\n",
        "    a, b = b, a + b\n",
        "\n",
        "print(f\"\\nOs {n} primeiros números da sequência de Fibonacci são:\")\n",
        "print(fibonacci)\n"
      ],
      "metadata": {
        "id": "NLQuz53yFLD9",
        "colab": {
          "base_uri": "https://localhost:8080/"
        },
        "outputId": "a186bfca-49e3-415b-9c1f-3cb65a54d809"
      },
      "execution_count": 42,
      "outputs": [
        {
          "output_type": "stream",
          "name": "stdout",
          "text": [
            "Digite um número inteiro positivo (n ≥ 1): 9\n",
            "\n",
            "Os 9 primeiros números da sequência de Fibonacci são:\n",
            "[0, 1, 1, 2, 3, 5, 8, 13, 21]\n"
          ]
        }
      ]
    },
    {
      "cell_type": "markdown",
      "source": [
        "9. Faça um programa que peça um número inteiro não negativo n e mostre o valor de n fatorial (n!)."
      ],
      "metadata": {
        "id": "_68EdPiEHQNU"
      }
    },
    {
      "cell_type": "code",
      "source": [
        "while True:\n",
        "    try:\n",
        "        n = int(input(\"Digite um número inteiro não negativo para calcular o fatorial: \"))\n",
        "        if n >= 0:\n",
        "            break\n",
        "        else:\n",
        "            print(\"O número deve ser zero ou positivo.\")\n",
        "    except ValueError:\n",
        "        print(\"Entrada inválida. Digite um número inteiro.\")\n",
        "\n",
        "fatorial = 1\n",
        "for i in range(1, n + 1):\n",
        "    fatorial *= i\n",
        "\n",
        "print(f\"\\nO fatorial de {n} é {fatorial}\")\n"
      ],
      "metadata": {
        "id": "IsYu8PnyFLBR",
        "colab": {
          "base_uri": "https://localhost:8080/"
        },
        "outputId": "3c787fee-f2fa-4e1e-c13e-db2dde3ebe58"
      },
      "execution_count": 43,
      "outputs": [
        {
          "output_type": "stream",
          "name": "stdout",
          "text": [
            "Digite um número inteiro não negativo para calcular o fatorial: 3\n",
            "\n",
            "O fatorial de 3 é 6\n"
          ]
        }
      ]
    },
    {
      "cell_type": "markdown",
      "source": [
        "10. Faça um programa que peça um número inteiro e determine se esse número é um número primo. (Um número é primo se ele for divisível somente por ele mesmo e por 1)."
      ],
      "metadata": {
        "id": "idPGZDK9HkLF"
      }
    },
    {
      "cell_type": "code",
      "source": [
        "\n",
        "def verificar_primo(num):\n",
        "    if num <= 1:\n",
        "        return False\n",
        "    for i in range(2, int(num ** 0.5) + 1):\n",
        "        if num % i == 0:\n",
        "            return False\n",
        "    return True\n",
        "\n",
        "numero = int(input(\"Digite um número inteiro: \"))\n",
        "\n",
        "if verificar_primo(numero):\n",
        "    print(f\"{numero} é um número primo.\")\n",
        "else:\n",
        "    print(f\"{numero} não é um número primo.\")\n"
      ],
      "metadata": {
        "id": "Uxo8UEb7FK-i",
        "colab": {
          "base_uri": "https://localhost:8080/"
        },
        "outputId": "2521e0f6-5250-4beb-b3ee-5855d437879a"
      },
      "execution_count": 50,
      "outputs": [
        {
          "output_type": "stream",
          "name": "stdout",
          "text": [
            "Digite um número inteiro: 3\n",
            "3 é um número primo.\n"
          ]
        }
      ]
    },
    {
      "cell_type": "markdown",
      "source": [
        "11. Faça um programa que peça dois números inteiros positivos e mostra o máximo divisor comum (MDC) e o mínimo múltiplo comum (MMC) desses números."
      ],
      "metadata": {
        "id": "LiN-wnyRMoOi"
      }
    },
    {
      "cell_type": "code",
      "source": [
        "def calcular_mdc(a, b):\n",
        "    while b != 0:\n",
        "        a, b = b, a % b\n",
        "    return a\n",
        "\n",
        "def calcular_mmc(a, b, mdc):\n",
        "    return (a * b) // mdc\n",
        "\n",
        "num1 = int(input(\"Digite o primeiro número inteiro positivo: \"))\n",
        "num2 = int(input(\"Digite o segundo número inteiro positivo: \"))\n",
        "\n",
        "if num1 > 0 and num2 > 0:\n",
        "    mdc = calcular_mdc(num1, num2)\n",
        "    mmc = calcular_mmc(num1, num2, mdc)\n",
        "\n",
        "    print(f\"O MDC de {num1} e {num2} é: {mdc}\")\n",
        "    print(f\"O MMC de {num1} e {num2} é: {mmc}\")\n",
        "else:\n",
        "    print(\"Por favor, digite números inteiros positivos.\")\n"
      ],
      "metadata": {
        "id": "MPZDueOFFK8E",
        "colab": {
          "base_uri": "https://localhost:8080/"
        },
        "outputId": "55664690-120a-4b4c-8f81-49f591bf51f5"
      },
      "execution_count": 51,
      "outputs": [
        {
          "output_type": "stream",
          "name": "stdout",
          "text": [
            "Digite o primeiro número inteiro positivo: 3\n",
            "Digite o segundo número inteiro positivo: 5\n",
            "O MDC de 3 e 5 é: 1\n",
            "O MMC de 3 e 5 é: 15\n"
          ]
        }
      ]
    },
    {
      "cell_type": "markdown",
      "source": [
        "12. Faça um programa que peça a razão e primeiro termo de uma PA (progressão aritmética). Peça um número inteiro positivo n e mostra os n primeiros termos dessa PA."
      ],
      "metadata": {
        "id": "U83IiC1VM6dc"
      }
    },
    {
      "cell_type": "code",
      "source": [
        "\n",
        "def calcular_pa(primeiro_termo, razao, n):\n",
        "    termos = []\n",
        "\n",
        "    for i in range(n):\n",
        "        termo = primeiro_termo + i * razao\n",
        "        termos.append(termo)\n",
        "\n",
        "\n",
        "    print(f\"Os {n} primeiros termos da PA são: {', '.join(str(t) for t in termos)}\")\n",
        "\n",
        "primeiro_termo = int(input(\"Digite o primeiro termo da PA: \"))\n",
        "razao = int(input(\"Digite a razão da PA: \"))\n",
        "n = int(input(\"Digite o número de termos: \"))\n",
        "\n",
        "if n > 0:\n",
        "    calcular_pa(primeiro_termo, razao, n)\n",
        "else:\n",
        "    print(\"O número de termos deve ser um inteiro positivo.\")\n"
      ],
      "metadata": {
        "id": "E1lkmJ0nM6L3",
        "colab": {
          "base_uri": "https://localhost:8080/"
        },
        "outputId": "bca7e323-3674-4353-ef48-d72c66550469"
      },
      "execution_count": 52,
      "outputs": [
        {
          "output_type": "stream",
          "name": "stdout",
          "text": [
            "Digite o primeiro termo da PA: 3\n",
            "Digite a razão da PA: 4\n",
            "Digite o número de termos: 7\n",
            "Os 7 primeiros termos da PA são: 3, 7, 11, 15, 19, 23, 27\n"
          ]
        }
      ]
    },
    {
      "cell_type": "markdown",
      "source": [
        "13. Faça um programa que peça a razão e terceiro termo de uma PA (progressão aritmética). Peça um número inteiro positivo n (maior do que 3) e mostra os n primeiros termos dessa PA."
      ],
      "metadata": {
        "id": "aJH4EAojNlHq"
      }
    },
    {
      "cell_type": "code",
      "source": [
        "\n",
        "def calcular_pa(razao, terceiro_termo, n):\n",
        "\n",
        "    primeiro_termo = terceiro_termo - 2 * razao\n",
        "\n",
        "    termos = []\n",
        "    for i in range(n):\n",
        "        termo = primeiro_termo + i * razao\n",
        "        termos.append(termo)\n",
        "\n",
        "    print(f\"Os {n} primeiros termos da PA são: {', '.join(str(t) for t in termos)}\")\n",
        "\n",
        "razao = int(input(\"Digite a razão da PA: \"))\n",
        "terceiro_termo = int(input(\"Digite o terceiro termo da PA: \"))\n",
        "n = int(input(\"Digite o número de termos (maior que 3): \"))\n",
        "\n",
        "if n > 3:\n",
        "    calcular_pa(razao, terceiro_termo, n)\n",
        "else:\n",
        "    print(\"O número de termos deve ser maior que 3.\")\n"
      ],
      "metadata": {
        "id": "lt_ClxbqNzlW",
        "colab": {
          "base_uri": "https://localhost:8080/"
        },
        "outputId": "4e8ae116-622e-4ba9-8932-18082ce6887c"
      },
      "execution_count": 53,
      "outputs": [
        {
          "output_type": "stream",
          "name": "stdout",
          "text": [
            "Digite a razão da PA: 5\n",
            "Digite o terceiro termo da PA: 3\n",
            "Digite o número de termos (maior que 3): 8\n",
            "Os 8 primeiros termos da PA são: -7, -2, 3, 8, 13, 18, 23, 28\n"
          ]
        }
      ]
    },
    {
      "cell_type": "markdown",
      "source": [
        "14. Faça um programa que peça a razão e quarto termo de uma PA (progressão aritmética). Peça um número inteiro positivo n e mostra a soma dos n primeiros termos dessa PA."
      ],
      "metadata": {
        "id": "EBeJ8-ufNxLU"
      }
    },
    {
      "cell_type": "code",
      "source": [
        "\n",
        "def calcular_soma_pa(razao, quarto_termo, n):\n",
        "\n",
        "    primeiro_termo = quarto_termo - 3 * razao\n",
        "\n",
        "\n",
        "    soma = (n / 2) * (2 * primeiro_termo + (n - 1) * razao)\n",
        "\n",
        "    return soma\n",
        "\n",
        "razao = int(input(\"Digite a razão da PA: \"))\n",
        "quarto_termo = int(input(\"Digite o quarto termo da PA: \"))\n",
        "n = int(input(\"Digite o número de termos: \"))\n",
        "\n",
        "if n > 0:\n",
        "    soma = calcular_soma_pa(razao, quarto_termo, n)\n",
        "    print(f\"A soma dos {n} primeiros termos da PA é: {soma:.2f}\")\n",
        "else:\n",
        "    print(\"O número de termos deve ser um inteiro positivo.\")\n"
      ],
      "metadata": {
        "id": "MN9jTh8rNoYw",
        "colab": {
          "base_uri": "https://localhost:8080/"
        },
        "outputId": "38c8c27e-0f52-4e84-c9cf-ed3cfcd9717e"
      },
      "execution_count": 54,
      "outputs": [
        {
          "output_type": "stream",
          "name": "stdout",
          "text": [
            "Digite a razão da PA: 3\n",
            "Digite o quarto termo da PA: 5\n",
            "Digite o número de termos: 6\n",
            "A soma dos 6 primeiros termos da PA é: 21.00\n"
          ]
        }
      ]
    },
    {
      "cell_type": "markdown",
      "source": [
        "15. Faça um programa que peça a razão e primeiro termo de uma PG (progressão geométrica). Peça um número inteiro positivo n e mostra os n primeiros termos dessa PG."
      ],
      "metadata": {
        "id": "e8XG0-muNc82"
      }
    },
    {
      "cell_type": "code",
      "source": [
        "\n",
        "def calcular_pg(primeiro_termo, razao, n):\n",
        "    termos = []\n",
        "\n",
        "    for i in range(n):\n",
        "        termo = primeiro_termo * (razao ** i)\n",
        "        termos.append(termo)\n",
        "\n",
        "\n",
        "    print(f\"Os {n} primeiros termos da PG são: {', '.join(str(t) for t in termos)}\")\n",
        "\n",
        "primeiro_termo = int(input(\"Digite o primeiro termo da PG: \"))\n",
        "razao = float(input(\"Digite a razão da PG: \"))\n",
        "n = int(input(\"Digite o número de termos: \"))\n",
        "\n",
        "if n > 0:\n",
        "    calcular_pg(primeiro_termo, razao, n)\n",
        "else:\n",
        "    print(\"O número de termos deve ser um inteiro positivo.\")\n"
      ],
      "metadata": {
        "id": "IWuwt1CANoVT",
        "colab": {
          "base_uri": "https://localhost:8080/"
        },
        "outputId": "165585e9-bafe-4899-8329-7c7e283a3f85"
      },
      "execution_count": 55,
      "outputs": [
        {
          "output_type": "stream",
          "name": "stdout",
          "text": [
            "Digite o primeiro termo da PG: 4\n",
            "Digite a razão da PG: 6\n",
            "Digite o número de termos: 7\n",
            "Os 7 primeiros termos da PG são: 4.0, 24.0, 144.0, 864.0, 5184.0, 31104.0, 186624.0\n"
          ]
        }
      ]
    },
    {
      "cell_type": "markdown",
      "source": [
        "16. Faça um programa que peça a razão e terceiro termo de uma PG (progressão geométrica). Peça um número inteiro positivo n (maior do que 3) e mostra os n primeiros termos e a soma dos n primeiros termos dessa PG."
      ],
      "metadata": {
        "id": "OIGtwqcDOFlS"
      }
    },
    {
      "cell_type": "code",
      "source": [
        "\n",
        "def calcular_pg(razao, terceiro_termo, n):\n",
        "\n",
        "    a_1 = terceiro_termo / (razao ** 2)\n",
        "\n",
        "    termos = []\n",
        "    soma = 0\n",
        "\n",
        "\n",
        "    for i in range(n):\n",
        "        termo = a_1 * (razao ** i)\n",
        "        termos.append(termo)\n",
        "        soma += termo\n",
        "\n",
        "    print(f\"Os {n} primeiros termos da PG são: {', '.join(f'{t:.2f}' for t in termos)}\")\n",
        "\n",
        "    print(f\"A soma dos {n} primeiros termos é: {soma:.2f}\")\n",
        "\n",
        "razao = float(input(\"Digite a razão da PG: \"))\n",
        "terceiro_termo = float(input(\"Digite o terceiro termo da PG: \"))\n",
        "n = int(input(\"Digite o número de termos (maior que 3): \"))\n",
        "\n",
        "if n > 3:\n",
        "    calcular_pg(razao, terceiro_termo, n)\n",
        "else:\n",
        "    print(\"O número de termos deve ser maior que 3.\")\n"
      ],
      "metadata": {
        "id": "AdtltL0oNoR1",
        "colab": {
          "base_uri": "https://localhost:8080/"
        },
        "outputId": "0a7424aa-a2f4-48e9-8fc9-baf4c1f2351c"
      },
      "execution_count": 48,
      "outputs": [
        {
          "output_type": "stream",
          "name": "stdout",
          "text": [
            "Digite a razão da PG: 2\n",
            "Digite o terceiro termo da PG: 5\n",
            "Digite o número de termos (maior que 3): 6\n",
            "Os 6 primeiros termos da PG são: 1.25, 2.50, 5.00, 10.00, 20.00, 40.00\n",
            "A soma dos 6 primeiros termos é: 78.75\n"
          ]
        }
      ]
    },
    {
      "cell_type": "markdown",
      "source": [
        "17. Faça um programa que peça o valor presente (capital inicial), a taxa de juros mensais (i) e o período em meses(n). Então, o programa deve calcular e mostrar a evolução do valor futuro (montante) a cada um dos n meses."
      ],
      "metadata": {
        "id": "SSZ1RDCZOE0U"
      }
    },
    {
      "cell_type": "code",
      "source": [
        "\n",
        "def calcular_montante_futuro(capital_inicial, taxa_juros, meses):\n",
        "    montante = capital_inicial\n",
        "    for i in range(1, meses + 1):\n",
        "        montante *= (1 + taxa_juros / 100)\n",
        "        print(f\"Mês {i}: Montante = {montante:.2f}\")\n",
        "\n",
        "capital_inicial = float(input(\"Digite o valor presente (capital inicial): R$ \"))\n",
        "taxa_juros = float(input(\"Digite a taxa de juros mensal (%): \"))\n",
        "meses = int(input(\"Digite o número de meses: \"))\n",
        "\n",
        "calcular_montante_futuro(capital_inicial, taxa_juros, meses)\n"
      ],
      "metadata": {
        "id": "aSbMohoPPVTQ",
        "colab": {
          "base_uri": "https://localhost:8080/"
        },
        "outputId": "737fcea5-c2b3-479e-ec6d-5792d55ba3dd"
      },
      "execution_count": 47,
      "outputs": [
        {
          "output_type": "stream",
          "name": "stdout",
          "text": [
            "Digite o valor presente (capital inicial): R$ 1000\n",
            "Digite a taxa de juros mensal (%): 8\n",
            "Digite o número de meses: 10\n",
            "Mês 1: Montante = 1080.00\n",
            "Mês 2: Montante = 1166.40\n",
            "Mês 3: Montante = 1259.71\n",
            "Mês 4: Montante = 1360.49\n",
            "Mês 5: Montante = 1469.33\n",
            "Mês 6: Montante = 1586.87\n",
            "Mês 7: Montante = 1713.82\n",
            "Mês 8: Montante = 1850.93\n",
            "Mês 9: Montante = 1999.00\n",
            "Mês 10: Montante = 2158.92\n"
          ]
        }
      ]
    },
    {
      "cell_type": "markdown",
      "source": [
        "18. Faça um programa que pede o valor que será depositado todos o meses, o valor da taxa de juros mensal e o total de meses (n) . O programa deverá mostrar na tela o valor do montante e o valor dos juros em cada um dos n meses."
      ],
      "metadata": {
        "id": "Ru07Ip92PQaj"
      }
    },
    {
      "cell_type": "code",
      "source": [
        "\n",
        "def calcular_montante_e_juros(deposito, taxa_juros, meses):\n",
        "    saldo = 0\n",
        "    for i in range(1, meses + 1):\n",
        "        saldo += deposito\n",
        "        juros = saldo * taxa_juros / 100\n",
        "        saldo += juros\n",
        "        print(f\"Mês {i}: Montante = {saldo:.2f}, Juros = {juros:.2f}\")\n",
        "\n",
        "deposito = float(input(\"Digite o valor do depósito mensal: R$ \"))\n",
        "taxa_juros = float(input(\"Digite a taxa de juros mensal (%): \"))\n",
        "meses = int(input(\"Digite o número de meses: \"))\n",
        "\n",
        "calcular_montante_e_juros(deposito, taxa_juros, meses)\n"
      ],
      "metadata": {
        "id": "PimDkbIHOsNb",
        "colab": {
          "base_uri": "https://localhost:8080/"
        },
        "outputId": "49ddb6a1-528c-4f4f-a29a-e8624c8dacea"
      },
      "execution_count": 46,
      "outputs": [
        {
          "output_type": "stream",
          "name": "stdout",
          "text": [
            "Digite o valor do depósito mensal: R$ 1000\n",
            "Digite a taxa de juros mensal (%): 5\n",
            "Digite o número de meses: 6\n",
            "Mês 1: Montante = 1050.00, Juros = 50.00\n",
            "Mês 2: Montante = 2152.50, Juros = 102.50\n",
            "Mês 3: Montante = 3310.12, Juros = 157.62\n",
            "Mês 4: Montante = 4525.63, Juros = 215.51\n",
            "Mês 5: Montante = 5801.91, Juros = 276.28\n",
            "Mês 6: Montante = 7142.01, Juros = 340.10\n"
          ]
        }
      ]
    },
    {
      "cell_type": "markdown",
      "source": [
        "19. Faça um programa que pede o número n de provas e as n notas e calcula a média e o desvio padrão dessas notas."
      ],
      "metadata": {
        "id": "VwM0pkrrGmrp"
      }
    },
    {
      "cell_type": "code",
      "source": [
        "import math\n",
        "\n",
        "def calcular_media(notas):\n",
        "    return sum(notas) / len(notas)\n",
        "\n",
        "def calcular_desvio_padrao(notas, media):\n",
        "    somatorio = sum((nota - media) ** 2 for nota in notas)\n",
        "    return math.sqrt(somatorio / len(notas))\n",
        "\n",
        "n = int(input(\"Digite o número de provas: \"))\n",
        "\n",
        "notas = []\n",
        "for i in range(n):\n",
        "    nota = float(input(f\"Digite a nota da prova {i + 1}: \"))\n",
        "    notas.append(nota)\n",
        "\n",
        "media = calcular_media(notas)\n",
        "desvio_padrao = calcular_desvio_padrao(notas, media)\n",
        "\n",
        "print(f\"A média das notas é: {media:.2f}\")\n",
        "print(f\"O desvio padrão das notas é: {desvio_padrao:.2f}\")\n"
      ],
      "metadata": {
        "id": "SNU2-aUGM6IR",
        "colab": {
          "base_uri": "https://localhost:8080/"
        },
        "outputId": "0c4aae58-a35d-4a92-e7be-a60e101c126e"
      },
      "execution_count": 45,
      "outputs": [
        {
          "output_type": "stream",
          "name": "stdout",
          "text": [
            "Digite o número de provas: 5\n",
            "Digite a nota da prova 1: 10\n",
            "Digite a nota da prova 2: 6\n",
            "Digite a nota da prova 3: 8\n",
            "Digite a nota da prova 4: 9\n",
            "Digite a nota da prova 5: 7\n",
            "A média das notas é: 8.00\n",
            "O desvio padrão das notas é: 1.41\n"
          ]
        }
      ]
    },
    {
      "cell_type": "markdown",
      "source": [
        "20. Faça um programa que peça um número inteiro positivo e mostra esse número no sistema binário."
      ],
      "metadata": {
        "id": "vi2enrhTJYLc"
      }
    },
    {
      "cell_type": "code",
      "source": [
        "\n",
        "while True:\n",
        "    try:\n",
        "        n = int(input(\"Digite um número inteiro positivo para converter em binário: \"))\n",
        "        if n > 0:\n",
        "            break\n",
        "        else:\n",
        "            print(\"O número deve ser maior que zero.\")\n",
        "    except ValueError:\n",
        "        print(\"Entrada inválida! Digite um número inteiro.\")\n",
        "\n",
        "\n",
        "binario = ''\n",
        "numero_original = n\n",
        "while n > 0:\n",
        "    resto = n % 2\n",
        "    binario = str(resto) + binario\n",
        "    n = n // 2\n",
        "\n",
        "print(f\"\\nO número {numero_original} em binário é: {binario}\")\n"
      ],
      "metadata": {
        "id": "p27r_CSPM6FW",
        "colab": {
          "base_uri": "https://localhost:8080/"
        },
        "outputId": "1648f4bc-5a31-42b7-e7fd-92deccb63abe"
      },
      "execution_count": 44,
      "outputs": [
        {
          "output_type": "stream",
          "name": "stdout",
          "text": [
            "Digite um número inteiro positivo para converter em binário: 34\n",
            "\n",
            "O número 34 em binário é: 100010\n"
          ]
        }
      ]
    },
    {
      "cell_type": "code",
      "source": [],
      "metadata": {
        "id": "esbcSv8uM6CI"
      },
      "execution_count": null,
      "outputs": []
    },
    {
      "cell_type": "code",
      "source": [],
      "metadata": {
        "id": "cH8TN_sbFK5U"
      },
      "execution_count": null,
      "outputs": []
    },
    {
      "cell_type": "code",
      "source": [],
      "metadata": {
        "id": "RRZDeToTFK2Y"
      },
      "execution_count": null,
      "outputs": []
    },
    {
      "cell_type": "code",
      "source": [],
      "metadata": {
        "id": "nuMTnHU1FKzU"
      },
      "execution_count": null,
      "outputs": []
    },
    {
      "cell_type": "code",
      "source": [],
      "metadata": {
        "id": "s0hUDaGiFKwb"
      },
      "execution_count": null,
      "outputs": []
    },
    {
      "cell_type": "code",
      "source": [],
      "metadata": {
        "id": "I8s7JjiCFKtR"
      },
      "execution_count": null,
      "outputs": []
    },
    {
      "cell_type": "code",
      "source": [],
      "metadata": {
        "id": "EUJtq8y9FKTU"
      },
      "execution_count": null,
      "outputs": []
    },
    {
      "cell_type": "code",
      "source": [],
      "metadata": {
        "id": "MSN-A2kx_eWB"
      },
      "execution_count": null,
      "outputs": []
    },
    {
      "cell_type": "code",
      "source": [],
      "metadata": {
        "id": "DnZLBgOD_eT7"
      },
      "execution_count": null,
      "outputs": []
    }
  ]
}